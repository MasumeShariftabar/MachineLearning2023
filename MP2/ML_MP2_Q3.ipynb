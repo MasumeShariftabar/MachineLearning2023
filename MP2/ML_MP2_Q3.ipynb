{
  "nbformat": 4,
  "nbformat_minor": 0,
  "metadata": {
    "colab": {
      "provenance": []
    },
    "kernelspec": {
      "name": "python3",
      "display_name": "Python 3"
    },
    "language_info": {
      "name": "python"
    }
  },
  "cells": [
    {
      "cell_type": "markdown",
      "source": [
        "Masume Shariftabar - 9927613"
      ],
      "metadata": {
        "id": "1HiGFDV_WBeR"
      }
    },
    {
      "cell_type": "code",
      "source": [
        "import pandas as pd\n",
        "import matplotlib.pyplot as plt\n",
        "import numpy as np\n",
        "\n",
        "!pip install --upgrade --no-cache-dir gdown\n",
        "!gdown 1QTi7dJtNAfFR5mG0rd8K3ZGvEIfSn_DS\n",
        "!unzip PersianData.zip"
      ],
      "metadata": {
        "colab": {
          "base_uri": "https://localhost:8080/"
        },
        "id": "9hfrl_AblzJr",
        "outputId": "40b438ee-f503-40db-b671-96eabd0c2e36"
      },
      "execution_count": 2,
      "outputs": [
        {
          "output_type": "stream",
          "name": "stdout",
          "text": [
            "Requirement already satisfied: gdown in /usr/local/lib/python3.10/dist-packages (4.7.1)\n",
            "Requirement already satisfied: filelock in /usr/local/lib/python3.10/dist-packages (from gdown) (3.13.1)\n",
            "Requirement already satisfied: requests[socks] in /usr/local/lib/python3.10/dist-packages (from gdown) (2.31.0)\n",
            "Requirement already satisfied: six in /usr/local/lib/python3.10/dist-packages (from gdown) (1.16.0)\n",
            "Requirement already satisfied: tqdm in /usr/local/lib/python3.10/dist-packages (from gdown) (4.66.1)\n",
            "Requirement already satisfied: beautifulsoup4 in /usr/local/lib/python3.10/dist-packages (from gdown) (4.11.2)\n",
            "Requirement already satisfied: soupsieve>1.2 in /usr/local/lib/python3.10/dist-packages (from beautifulsoup4->gdown) (2.5)\n",
            "Requirement already satisfied: charset-normalizer<4,>=2 in /usr/local/lib/python3.10/dist-packages (from requests[socks]->gdown) (3.3.2)\n",
            "Requirement already satisfied: idna<4,>=2.5 in /usr/local/lib/python3.10/dist-packages (from requests[socks]->gdown) (3.6)\n",
            "Requirement already satisfied: urllib3<3,>=1.21.1 in /usr/local/lib/python3.10/dist-packages (from requests[socks]->gdown) (2.0.7)\n",
            "Requirement already satisfied: certifi>=2017.4.17 in /usr/local/lib/python3.10/dist-packages (from requests[socks]->gdown) (2023.11.17)\n",
            "Requirement already satisfied: PySocks!=1.5.7,>=1.5.6 in /usr/local/lib/python3.10/dist-packages (from requests[socks]->gdown) (1.7.1)\n",
            "Downloading...\n",
            "From: https://drive.google.com/uc?id=1QTi7dJtNAfFR5mG0rd8K3ZGvEIfSn_DS\n",
            "To: /content/PersianData.zip\n",
            "100% 7.46k/7.46k [00:00<00:00, 1.32MB/s]\n",
            "Archive:  PersianData.zip\n",
            "replace 1.jpg? [y]es, [n]o, [A]ll, [N]one, [r]ename: "
          ]
        }
      ]
    },
    {
      "cell_type": "code",
      "source": [
        "\n",
        "from PIL import Image, ImageDraw\n",
        "import matplotlib.image as img\n",
        "import random\n",
        "from imageio import imread\n",
        "\n",
        "def convertImageToBinary(path):\n",
        "    \"\"\"\n",
        "    Convert an image to a binary representation based on pixel intensity.\n",
        "\n",
        "    Args:\n",
        "        path (str): The file path to the input image.\n",
        "\n",
        "    Returns:\n",
        "        list: A binary representation of the image where white is represented by -1 and black is represented by 1.\n",
        "    \"\"\"\n",
        "    # Open the image file.\n",
        "    image = Image.open(path)\n",
        "\n",
        "    # Create a drawing tool for manipulating the image.\n",
        "    draw = ImageDraw.Draw(image)\n",
        "\n",
        "    # Determine the image's width and height in pixels.\n",
        "    width = image.size[0]\n",
        "    height = image.size[1]\n",
        "\n",
        "    # Load pixel values for the image.\n",
        "    pix = image.load()\n",
        "\n",
        "    # Define a factor for intensity thresholding.\n",
        "    factor = 100\n",
        "\n",
        "    # Initialize an empty list to store the binary representation.\n",
        "    binary_representation = []\n",
        "\n",
        "    # Loop through all pixels in the image.\n",
        "    for i in range(width):\n",
        "        for j in range(height):\n",
        "            # Extract the Red, Green, and Blue (RGB) values of the pixel.\n",
        "            red = pix[i, j][0]\n",
        "            green = pix[i, j][1]\n",
        "            blue = pix[i, j][2]\n",
        "\n",
        "            # Calculate the total intensity of the pixel.\n",
        "            total_intensity = red + green + blue\n",
        "\n",
        "            # Determine whether the pixel should be white or black based on the intensity.\n",
        "            if total_intensity > (((255 + factor) // 2) * 3):\n",
        "                red, green, blue = 255, 255, 255  # White pixel\n",
        "                binary_representation.append(-1)\n",
        "            else:\n",
        "                red, green, blue = 0, 0, 0  # Black pixel\n",
        "                binary_representation.append(1)\n",
        "\n",
        "            # Set the pixel color accordingly.\n",
        "            draw.point((i, j), (red, green, blue))\n",
        "\n",
        "    # Clean up the drawing tool.\n",
        "    del draw\n",
        "\n",
        "    # Return the binary representation of the image.\n",
        "    return binary_representation\n"
      ],
      "metadata": {
        "id": "1DoLjcSkl-Xm"
      },
      "execution_count": 3,
      "outputs": []
    },
    {
      "cell_type": "code",
      "source": [
        "\n",
        "def generateNoisyImages():\n",
        "    # List of image file paths\n",
        "    image_paths = [\n",
        "        \"/content/1.jpg\",\n",
        "        \"/content/2.jpg\",\n",
        "        \"/content/3.jpg\",\n",
        "        \"/content/4.jpg\",\n",
        "        \"/content/5.jpg\"\n",
        "    ]\n",
        "\n",
        "    for i, image_path in enumerate(image_paths, start=1):\n",
        "        noisy_image_path = f\"/content/noisy{i}.jpg\"\n",
        "        getNoisyBinaryImage(image_path, noisy_image_path)\n",
        "        print(f\"Noisy image for {image_path} generated and saved as {noisy_image_path}\")\n",
        "\n",
        "def getNoisyBinaryImage(input_path, output_path):\n",
        "    \"\"\"\n",
        "    Add noise to an image and save it as a new file.\n",
        "\n",
        "    Args:\n",
        "        input_path (str): The file path to the input image.\n",
        "        output_path (str): The file path to save the noisy image.\n",
        "    \"\"\"\n",
        "    # Open the input image.\n",
        "    image = Image.open(input_path)\n",
        "\n",
        "    # Create a drawing tool for manipulating the image.\n",
        "    draw = ImageDraw.Draw(image)\n",
        "\n",
        "    # Determine the image's width and height in pixels.\n",
        "    width = image.size[0]\n",
        "    height = image.size[1]\n",
        "\n",
        "    # Load pixel values for the image.\n",
        "    pix = image.load()\n",
        "\n",
        "    # Define a factor for introducing noise.\n",
        "    noise_factor = 5000\n",
        "\n",
        "    # Loop through all pixels in the image.\n",
        "    for i in range(width):\n",
        "        for j in range(height):\n",
        "            # Generate a random noise value within the specified factor.\n",
        "            rand = random.randint(-noise_factor, noise_factor)\n",
        "\n",
        "            # Add the noise to the Red, Green, and Blue (RGB) values of the pixel.\n",
        "            red = pix[i, j][0] + rand\n",
        "            green = pix[i, j][1] + rand\n",
        "            blue = pix[i, j][2] + rand\n",
        "\n",
        "            # Ensure that RGB values stay within the valid range (0-255).\n",
        "            if red < 0:\n",
        "                red = 0\n",
        "            if green < 0:\n",
        "                green = 0\n",
        "            if blue < 0:\n",
        "                blue = 0\n",
        "            if red > 255:\n",
        "                red = 255\n",
        "            if green > 255:\n",
        "                green = 255\n",
        "            if blue > 255:\n",
        "                blue = 255\n",
        "\n",
        "            # Set the pixel color accordingly.\n",
        "            draw.point((i, j), (red, green, blue))\n",
        "\n",
        "    # Save the noisy image as a file.\n",
        "    image.save(output_path, \"JPEG\")\n",
        "\n",
        "    # Clean up the drawing tool.\n",
        "    del draw\n",
        "\n",
        "# Generate noisy images and save them\n",
        "generateNoisyImages()"
      ],
      "metadata": {
        "colab": {
          "base_uri": "https://localhost:8080/"
        },
        "id": "W5T52DHJmDZd",
        "outputId": "a77ed0e0-8ef6-42a7-965d-d012187b7c1a"
      },
      "execution_count": 12,
      "outputs": [
        {
          "output_type": "stream",
          "name": "stdout",
          "text": [
            "Noisy image for /content/1.jpg generated and saved as /content/noisy1.jpg\n",
            "Noisy image for /content/2.jpg generated and saved as /content/noisy2.jpg\n",
            "Noisy image for /content/3.jpg generated and saved as /content/noisy3.jpg\n",
            "Noisy image for /content/4.jpg generated and saved as /content/noisy4.jpg\n",
            "Noisy image for /content/5.jpg generated and saved as /content/noisy5.jpg\n"
          ]
        }
      ]
    },
    {
      "cell_type": "markdown",
      "source": [
        "Hamming"
      ],
      "metadata": {
        "id": "hPwD1KXJoq9J"
      }
    },
    {
      "cell_type": "code",
      "execution_count": 18,
      "metadata": {
        "colab": {
          "base_uri": "https://localhost:8080/",
          "height": 922
        },
        "id": "nmzWzvTclrlV",
        "outputId": "cdcf9f04-ca24-4607-fc85-898f1bac40d0"
      },
      "outputs": [
        {
          "output_type": "stream",
          "name": "stdout",
          "text": [
            "noisy3.jpg\n"
          ]
        },
        {
          "output_type": "display_data",
          "data": {
            "text/plain": [
              "<Figure size 480x480 with 1 Axes>"
            ],
            "image/png": "[encoded data removed]"
          },
          "metadata": {}
        },
        {
          "output_type": "stream",
          "name": "stdout",
          "text": [
            "\n",
            "\n",
            "\n"
          ]
        },
        {
          "output_type": "display_data",
          "data": {
            "text/plain": [
              "<Figure size 640x480 with 1 Axes>"
            ],
            "image/png": "[encoded data removed]"
          },
          "metadata": {}
        }
      ],
      "source": [
        "\n",
        "import os\n",
        "from math import sqrt\n",
        "\n",
        "def change(vector, a, b):\n",
        "  vector = np.array(vector)\n",
        "  matrix = vector.reshape((a, b))\n",
        "  return matrix\n",
        "\n",
        "def product(matrix, vector, T):\n",
        "  result_vector = []\n",
        "  for i in range(len(matrix)):\n",
        "    sum = 0\n",
        "    for j in range(len(vector)):\n",
        "      sum = sum + matrix[i][j] * vector[j]\n",
        "    result_vector.append((sum + T))\n",
        "  return result_vector\n",
        "\n",
        "def action(vector, T, Emax):\n",
        "  result_vector = []\n",
        "  for value in vector:\n",
        "    if value <= 0:\n",
        "      result_vector.append(0)\n",
        "    elif 0 < value <= T:\n",
        "      result_vector.append(Emax*value)\n",
        "    elif value > T:\n",
        "      result_vector.append(T)\n",
        "  return result_vector\n",
        "\n",
        "def sum(vector, j):\n",
        "  total_sum = 0\n",
        "  for i in range(0, len(vector)):\n",
        "    if i != j:\n",
        "      total_sum = total_sum + vector[i]\n",
        "  return total_sum\n",
        "\n",
        "def norm(vector, p):\n",
        "  difference = []\n",
        "  for i in range(len(vector)):\n",
        "    difference.append(vector[i] - p[i])\n",
        "  sum = 0\n",
        "  for element in difference:\n",
        "    sum += element * element\n",
        "  return sqrt(sum)\n",
        "\n",
        "path = [\n",
        "    '/content/1.jpg',\n",
        "    '/content/2.jpg',\n",
        "    '/content/3.jpg',\n",
        "    '/content/4.jpg',\n",
        "    '/content/5.jpg',\n",
        "]\n",
        "\n",
        "x = []\n",
        "for i in path:\n",
        "  x.append(convertImageToBinary(i))\n",
        "\n",
        "image_path = \"/content/noisy3.jpg\"\n",
        "y = convertImageToBinary(image_path)\n",
        "\n",
        "print(os.path.basename(image_path))\n",
        "\n",
        "k = len(x)\n",
        "a = 96\n",
        "b = 96\n",
        "q = change(y, a, b)\n",
        "plt.matshow(q)\n",
        "m = len(x[0])\n",
        "T = m / 2\n",
        "Emax = 0.000001\n",
        "U = 1 / Emax\n",
        "\n",
        "w = [[(x[i][j]) / 2 for j in range(m)] for i in range(k)]\n",
        "e = round(1 / len(x), 1)\n",
        "E = [[0 for j in range(k)] for i in range(k)]\n",
        "\n",
        "\n",
        "for i in range(k):\n",
        "  for j in range(k):\n",
        "    if j == i:\n",
        "      E[i][j] = 1.0\n",
        "    else:\n",
        "      E[i][j] = -e\n",
        "\n",
        "s = [product(w, y, T)]\n",
        "p = action(s[0], U, Emax)\n",
        "y = [p]\n",
        "i = 0\n",
        "j = []\n",
        "p = [0 for j in range(len(s[0]))]\n",
        "\n",
        "while norm(y[i], p) >= Emax:\n",
        "  s.append([0 for j in range(len(s[0]))])\n",
        "  for j in range(len(s[0])):\n",
        "    s[i + 1][j] = y[i][j] - e*sum(y[i], j)\n",
        "  y.append((action(s[i + 1], U, Emax)))\n",
        "  i += 1\n",
        "  p = y[i - 1]\n",
        "\n",
        "result_index = y[len(y) - 1].index(max(y[len(y) - 1])) + 1\n",
        "q = change(x[result_index - 1], a, b)\n",
        "\n",
        "from matplotlib import pyplot as plt\n",
        "from matplotlib import image as img\n",
        "\n",
        "img.imsave('output.jpg', q)\n",
        "output_img = Image.open('output.jpg')\n",
        "output_img = output_img.transpose(Image.FLIP_TOP_BOTTOM)\n",
        "output_img = output_img.transpose(Image.ROTATE_270)\n",
        "output_img.save('output.jpg')\n",
        "\n",
        "plt.show()\n",
        "image = img.imread('output.jpg')\n",
        "print('\\n' + '\\n')\n",
        "plt.imshow(image)\n",
        "plt.show()\n",
        "\n",
        "\n",
        "\n"
      ]
    },
    {
      "cell_type": "markdown",
      "source": [
        "MissedPoint"
      ],
      "metadata": {
        "id": "u-tJhwACo2AK"
      }
    },
    {
      "cell_type": "code",
      "source": [
        "from PIL import Image, ImageDraw\n",
        "import random\n",
        "\n",
        "def generateMissedPointImages():\n",
        "    # List of image file paths\n",
        "    image_paths = [\n",
        "        \"/content/1.jpg\",\n",
        "        \"/content/2.jpg\",\n",
        "        \"/content/3.jpg\",\n",
        "        \"/content/4.jpg\",\n",
        "        \"/content/5.jpg\"\n",
        "    ]\n",
        "\n",
        "    for i, image_path in enumerate(image_paths, start=1):\n",
        "        missedpoint_image_path = f\"/content/missedpoint{i}.jpg\"\n",
        "        getMissedPointBinaryImage(image_path, missedpoint_image_path)\n",
        "        print(f\"MissedPoint image for {image_path} generated and saved as {missedpoint_image_path}\")\n",
        "\n",
        "def getMissedPointBinaryImage(input_path, output_path):\n",
        "    \"\"\"\n",
        "    Add noise to an image and save it as a new file.\n",
        "\n",
        "    Args:\n",
        "        input_path (str): The file path to the input image.\n",
        "        output_path (str): The file path to save the missedpoint image.\n",
        "    \"\"\"\n",
        "    # Open the input image.\n",
        "    image = Image.open(input_path)\n",
        "\n",
        "    # Create a drawing tool for manipulating the image.\n",
        "    draw = ImageDraw.Draw(image)\n",
        "\n",
        "    # Determine the image's width and height in pixels.\n",
        "    width = image.size[0]\n",
        "    height = image.size[1]\n",
        "\n",
        "    # Load pixel values for the image.\n",
        "    pix = image.load()\n",
        "\n",
        "    # Define a factor for introducing missedpoint.\n",
        "    missedpoint_factor = 10000000\n",
        "\n",
        "    # Loop through all pixels in the image.\n",
        "    for i in range(width):\n",
        "        for j in range(height):\n",
        "\n",
        "            # Generate a random missedpoint value within the specified factor.\n",
        "            rand = random.randint(-missedpoint_factor, missedpoint_factor)\n",
        "\n",
        "            # Add the missedpoint to the Red, Green, and Blue (RGB) values of the pixel.\n",
        "            red = pix[i, j][0]\n",
        "            green = pix[i, j][1]\n",
        "            blue = pix[i, j][2]\n",
        "            if red == 0 & green == 0 & blue == 0:\n",
        "              red = red + rand\n",
        "              green = green + rand\n",
        "              blue = blue + rand\n",
        "\n",
        "            # Ensure that RGB values stay within the valid range (0-255).\n",
        "              if red < 0:\n",
        "                  red = 0\n",
        "              if green < 0:\n",
        "                  green = 0\n",
        "              if blue < 0:\n",
        "                  blue = 0\n",
        "              if red > 255:\n",
        "                  red = 255\n",
        "              if green > 255:\n",
        "                  green = 255\n",
        "              if blue > 255:\n",
        "                  blue = 255\n",
        "\n",
        "            # Set the pixel color accordingly.\n",
        "            draw.point((i, j), (red, green, blue))\n",
        "\n",
        "    # Save the noisy image as a file.\n",
        "    image.save(output_path, \"JPEG\")\n",
        "\n",
        "    # Clean up the drawing tool.\n",
        "    del draw\n",
        "\n",
        "# Generate missedpoint images and save them\n",
        "generateMissedPointImages()\n"
      ],
      "metadata": {
        "id": "pH2vLQOKvBbj",
        "colab": {
          "base_uri": "https://localhost:8080/"
        },
        "outputId": "1e266c19-36fc-4a34-b9da-316f77ef5623"
      },
      "execution_count": null,
      "outputs": [
        {
          "output_type": "stream",
          "name": "stdout",
          "text": [
            "MissedPoint image for /content/1.jpg generated and saved as /content/missedpoint1.jpg\n",
            "MissedPoint image for /content/2.jpg generated and saved as /content/missedpoint2.jpg\n",
            "MissedPoint image for /content/3.jpg generated and saved as /content/missedpoint3.jpg\n",
            "MissedPoint image for /content/4.jpg generated and saved as /content/missedpoint4.jpg\n",
            "MissedPoint image for /content/5.jpg generated and saved as /content/missedpoint5.jpg\n"
          ]
        }
      ]
    }
  ]
}