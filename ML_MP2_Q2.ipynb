{
  "nbformat": 4,
  "nbformat_minor": 0,
  "metadata": {
    "colab": {
      "provenance": []
    },
    "kernelspec": {
      "name": "python3",
      "display_name": "Python 3"
    },
    "language_info": {
      "name": "python"
    }
  },
  "cells": [
    {
      "cell_type": "markdown",
      "source": [
        "Masume Shariftabar - 9927613"
      ],
      "metadata": {
        "id": "cE1sVpOFV_mo"
      }
    },
    {
      "cell_type": "code",
      "execution_count": null,
      "metadata": {
        "id": "reHEVVJffghw"
      },
      "outputs": [],
      "source": [
        "#import library\n",
        "import numpy as np\n",
        "import itertools"
      ]
    },
    {
      "cell_type": "code",
      "execution_count": null,
      "metadata": {
        "id": "S7oinVRWN93T"
      },
      "outputs": [],
      "source": [
        "#define muculloch pitts\n",
        "class McCulloch_Pitts_neuron():\n",
        "\n",
        "  def __init__(self , weights , threshold):\n",
        "    self.weights = weights    #define weights\n",
        "    self.threshold = threshold    #define threshold\n",
        "\n",
        "  def model(self , x):\n",
        "    #define model with threshold\n",
        "    if np.dot(self.weights, x) >= self.threshold:\n",
        "    #if self.weights @ x >= self.threshold:\n",
        "        return 1\n",
        "    else:\n",
        "        return 0"
      ]
    },
    {
      "cell_type": "code",
      "execution_count": null,
      "metadata": {
        "id": "4KwFdyzROxUC"
      },
      "outputs": [],
      "source": [
        "#define model for dataset\n",
        "def BiMultiplier(input):\n",
        "  neur1 = McCulloch_Pitts_neuron([1, 1, 1, 1] , 4)    #c3\n",
        "  neur2 = McCulloch_Pitts_neuron([1, -1, 1, 0] , 2)   #a1a0'b1\n",
        "  neur3 = McCulloch_Pitts_neuron([1, 0, 1 , -1] , 2)  #a1b1b0'\n",
        "  neur4 = McCulloch_Pitts_neuron([2, 2] , 2)          #c2\n",
        "  neur5 = McCulloch_Pitts_neuron([1, -1 , 0, 1] , 2)  #a1a0'b0\n",
        "  neur6 = McCulloch_Pitts_neuron([1, 0, -1, 1] , 2)   #a1b1'b0\n",
        "  neur7 = McCulloch_Pitts_neuron([-1, 1, 1, 0] , 2)   #a1'a0b1\n",
        "  neur8 = McCulloch_Pitts_neuron([0, 1, 1, -1] , 2)   #a0b1b0'\n",
        "  neur9 = McCulloch_Pitts_neuron([2, 2, 2, 2] , 2)   #c1\n",
        "  neur10 = McCulloch_Pitts_neuron([0, 1, 0, 1] , 2)   #c0\n",
        "\n",
        "  z1 = neur1.model(np.array([input[0], input[1], input[2], input[3]]))\n",
        "  z2 = neur2.model(np.array([input[0], input[1], input[2], input[3]]))\n",
        "  z3 = neur3.model(np.array([input[0], input[1], input[2], input[3]]))\n",
        "  z4 = neur4.model(np.array([z2, z3]))\n",
        "  z5 = neur5.model(np.array([input[0], input[1], input[2], input[3]]))\n",
        "  z6 = neur6.model(np.array([input[0], input[1], input[2], input[3]]))\n",
        "  z7 = neur7.model(np.array([input[0], input[1], input[2], input[3]]))\n",
        "  z8 = neur8.model(np.array([input[0], input[1], input[2], input[3]]))\n",
        "  z9 = neur9.model(np.array([z5, z6, z7, z8]))\n",
        "  z10 = neur10.model(np.array([input[0], input[1], input[2], input[3]]))\n",
        "  # 4 bit output\n",
        "  return list([z1,z4,z9,z10])\n"
      ]
    },
    {
      "cell_type": "code",
      "source": [
        "import itertools\n",
        "# inputs\n",
        "input = [1, 0]\n",
        "X = list(itertools.product(input, input, input, input))\n",
        "for i in X:\n",
        "    res = BiMultiplier(i)\n",
        "    print(\"BiMultiplier with input as\", ''.join(map(str, i)), \"goes to output \", ''.join(map(str, res)))\n"
      ],
      "metadata": {
        "colab": {
          "base_uri": "https://localhost:8080/"
        },
        "id": "XoT_jYfQhmop",
        "outputId": "40f5b730-0a1e-43cc-a2c3-f55f1ae5ecc9"
      },
      "execution_count": null,
      "outputs": [
        {
          "output_type": "stream",
          "name": "stdout",
          "text": [
            "BiMultiplier with input as 1111 goes to output  1001\n",
            "BiMultiplier with input as 1110 goes to output  0110\n",
            "BiMultiplier with input as 1101 goes to output  0011\n",
            "BiMultiplier with input as 1100 goes to output  0000\n",
            "BiMultiplier with input as 1011 goes to output  0110\n",
            "BiMultiplier with input as 1010 goes to output  0100\n",
            "BiMultiplier with input as 1001 goes to output  0010\n",
            "BiMultiplier with input as 1000 goes to output  0000\n",
            "BiMultiplier with input as 0111 goes to output  0011\n",
            "BiMultiplier with input as 0110 goes to output  0010\n",
            "BiMultiplier with input as 0101 goes to output  0001\n",
            "BiMultiplier with input as 0100 goes to output  0000\n",
            "BiMultiplier with input as 0011 goes to output  0000\n",
            "BiMultiplier with input as 0010 goes to output  0000\n",
            "BiMultiplier with input as 0001 goes to output  0000\n",
            "BiMultiplier with input as 0000 goes to output  0000\n"
          ]
        }
      ]
    }
  ]
}