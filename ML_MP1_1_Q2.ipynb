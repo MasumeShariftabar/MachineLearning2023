{
  "nbformat": 4,
  "nbformat_minor": 0,
  "metadata": {
    "colab": {
      "provenance": [],
      "authorship_tag": "ABX9TyNAZcsTfH0d7sGnieKWLW7L",
      "include_colab_link": true
    },
    "kernelspec": {
      "name": "python3",
      "display_name": "Python 3"
    },
    "language_info": {
      "name": "python"
    }
  },
  "cells": [
    {
      "cell_type": "markdown",
      "metadata": {
        "id": "view-in-github",
        "colab_type": "text"
      },
      "source": [
        "<a href=\"https://colab.research.google.com/github/MasumeShariftabar/MachineLearning2023/blob/main/ML_MP1_1_Q2.ipynb\" target=\"_parent\"><img src=\"https://colab.research.google.com/assets/colab-badge.svg\" alt=\"Open In Colab\"/></a>"
      ]
    },
    {
      "cell_type": "markdown",
      "source": [
        "Q2-1 & Q2-2"
      ],
      "metadata": {
        "id": "YrNNBnzb3BFI"
      }
    },
    {
      "cell_type": "code",
      "source": [
        "import pandas as pd\n",
        "import numpy as np\n",
        "from sklearn.utils import shuffle\n",
        "from sklearn.datasets import make_classification\n",
        "from sklearn.linear_model import LogisticRegression , SGDClassifier\n",
        "import matplotlib.pyplot as plt\n",
        "from sklearn.model_selection import train_test_split\n",
        "\n",
        "# upload data in collab from google drive\n",
        "!gdown 1QH8cd1nLFo_RgUOLnICkgBNRR2QU8r4m\n",
        "\n",
        "# place dataset in folder\n",
        "import os\n",
        "folder_name = \"Data\"\n",
        "if not os.path.exists(folder_name):\n",
        "    os.makedirs(folder_name)\n",
        "\n",
        "%cd Data\n",
        "\n",
        "#change dataset format from txt => csv\n",
        "read_file = pd.read_csv (r'/content/data_banknote_authentication.txt')\n",
        "headerlist = ['f1' , 'f2','f3','f4','genuine']\n",
        "read_file.to_csv(\"/content/data_banknote_authentication.csv\" ,header = headerlist)\n",
        "\n",
        "#upload dataset as dataframe\n",
        "df = pd.read_csv(\"/content/data_banknote_authentication.csv\")\n",
        "\n",
        "# Shuffling datas\n",
        "df = shuffle(df)\n",
        "\n",
        "X = df[['f1', 'f2', 'f3', 'f4']].values          #feature/input\n",
        "y = df[['genuine']].values                       #target/otuput\n",
        "\n",
        "# Split train test datas\n",
        "x_train, x_test, y_train, y_test = train_test_split(X, y, test_size=0.2)  #20% of datas go for test\n",
        "df, X, y, x_train.shape, x_test.shape, y_train.shape, y_test.shape"
      ],
      "metadata": {
        "colab": {
          "base_uri": "https://localhost:8080/"
        },
        "id": "LcLcC4iT1x8m",
        "outputId": "b709e86c-b9de-42d8-8949-65a5b43b897f"
      },
      "execution_count": 10,
      "outputs": [
        {
          "output_type": "stream",
          "name": "stdout",
          "text": [
            "Downloading...\n",
            "From: https://drive.google.com/uc?id=1QH8cd1nLFo_RgUOLnICkgBNRR2QU8r4m\n",
            "To: /content/Data/Data/Data/Data/data_banknote_authentication.txt\n",
            "\r  0% 0.00/46.4k [00:00<?, ?B/s]\r100% 46.4k/46.4k [00:00<00:00, 58.5MB/s]\n",
            "/content/Data/Data/Data/Data/Data\n"
          ]
        },
        {
          "output_type": "execute_result",
          "data": {
            "text/plain": [
              "(      Unnamed: 0       f1        f2       f3       f4  genuine\n",
              " 534          534  1.94760  -4.77380  8.52700 -1.86680        0\n",
              " 111          111  3.23510   9.64700 -3.20740 -2.59480        0\n",
              " 1109        1109 -3.89520   3.81570 -0.31304 -3.81940        1\n",
              " 720          720 -0.45062  -1.36780  7.08580 -0.40303        0\n",
              " 726          726 -2.64790  10.13740 -1.33100 -5.47070        0\n",
              " ...          ...      ...       ...      ...      ...      ...\n",
              " 1283        1283  1.20800   4.07440 -4.76350 -2.61290        1\n",
              " 218          218 -1.30000  10.26780 -2.95300 -5.86380        0\n",
              " 217          217 -0.16735   7.62740  1.20610 -3.62410        0\n",
              " 1177        1177 -2.07540   1.27670 -0.64206 -1.26420        1\n",
              " 208          208  2.17210  -0.73874  5.46720 -0.72371        0\n",
              " \n",
              " [1371 rows x 6 columns],\n",
              " array([[ 1.9476 , -4.7738 ,  8.527  , -1.8668 ],\n",
              "        [ 3.2351 ,  9.647  , -3.2074 , -2.5948 ],\n",
              "        [-3.8952 ,  3.8157 , -0.31304, -3.8194 ],\n",
              "        ...,\n",
              "        [-0.16735,  7.6274 ,  1.2061 , -3.6241 ],\n",
              "        [-2.0754 ,  1.2767 , -0.64206, -1.2642 ],\n",
              "        [ 2.1721 , -0.73874,  5.4672 , -0.72371]]),\n",
              " array([[0],\n",
              "        [0],\n",
              "        [1],\n",
              "        ...,\n",
              "        [0],\n",
              "        [1],\n",
              "        [0]]),\n",
              " (1096, 4),\n",
              " (275, 4),\n",
              " (1096, 1),\n",
              " (275, 1))"
            ]
          },
          "metadata": {},
          "execution_count": 10
        }
      ]
    },
    {
      "cell_type": "markdown",
      "source": [
        "Q2-3"
      ],
      "metadata": {
        "id": "jlxrz-cFhMJb"
      }
    },
    {
      "cell_type": "code",
      "source": [
        "def sigmoid(x):\n",
        "  return 1/(1 + np.exp(-x))\n"
      ],
      "metadata": {
        "id": "V7yV-Tx2hMlu"
      },
      "execution_count": 21,
      "outputs": []
    },
    {
      "cell_type": "code",
      "source": [
        "# model\n",
        "def logistic_regression(x , w):\n",
        "  y_hat = sigmoid(x @ w)\n",
        "  return y_hat\n"
      ],
      "metadata": {
        "id": "--yaNkmcH_2P"
      },
      "execution_count": 22,
      "outputs": []
    },
    {
      "cell_type": "code",
      "source": [
        "def bce(y , y_hat):\n",
        "  loss = -(np.mean(y*np.log(y_hat) + (1-y)*np.log(1-y_hat)))\n",
        "  return loss\n",
        "\n"
      ],
      "metadata": {
        "id": "CS5PRAvaIDHz"
      },
      "execution_count": 23,
      "outputs": []
    },
    {
      "cell_type": "code",
      "source": [
        "def gradient(x , y  ,y_hat):\n",
        "  grads = (x.T @(y_hat - y)) / len(y)\n",
        "  return grads\n",
        "\n"
      ],
      "metadata": {
        "id": "BYeeKQdxISft"
      },
      "execution_count": 24,
      "outputs": []
    },
    {
      "cell_type": "code",
      "source": [
        "def gradient_descent(w , eta , grads):\n",
        "  w -= eta*grads\n",
        "  return w\n",
        "\n"
      ],
      "metadata": {
        "id": "Euow3Wv-IVT6"
      },
      "execution_count": 33,
      "outputs": []
    },
    {
      "cell_type": "code",
      "source": [
        "def accuracy(y , y_hat):\n",
        "  acc = np.sum(y == np.round(y_hat)) / len(y)\n",
        "  return acc\n",
        "\n"
      ],
      "metadata": {
        "id": "sNChVTQDIXyv"
      },
      "execution_count": 34,
      "outputs": []
    },
    {
      "cell_type": "code",
      "source": [
        "x_train = np.hstack((np.ones((len(x_train) , 1)) , x_train))\n",
        "x_train.shape"
      ],
      "metadata": {
        "colab": {
          "base_uri": "https://localhost:8080/"
        },
        "id": "eWmtfpViNl3n",
        "outputId": "cd4e342c-841e-410b-e48f-a02807229173"
      },
      "execution_count": 42,
      "outputs": [
        {
          "output_type": "execute_result",
          "data": {
            "text/plain": [
              "(1096, 5)"
            ]
          },
          "metadata": {},
          "execution_count": 42
        }
      ]
    },
    {
      "cell_type": "code",
      "source": [
        "m = 4       #number of features\n",
        "w = np.random.randn(m+1 , 1)\n",
        "print(w.shape)\n",
        "eta = 0.01\n",
        "n_epochs = 2000\n"
      ],
      "metadata": {
        "colab": {
          "base_uri": "https://localhost:8080/"
        },
        "id": "d6h1uQmnIdJM",
        "outputId": "cb2cedd6-a780-41f1-aa59-6a8327c1d31b"
      },
      "execution_count": 44,
      "outputs": [
        {
          "output_type": "stream",
          "name": "stdout",
          "text": [
            "(5, 1)\n"
          ]
        }
      ]
    },
    {
      "cell_type": "code",
      "source": [
        "error_hist = []\n",
        "\n",
        "for epoch in range(n_epochs):\n",
        "    # prediction\n",
        "    y_hat = logistic_regression(x_train , w)\n",
        "\n",
        "    # loss\n",
        "    e = bce(y_train , y_hat)\n",
        "    error_hist.append(e)\n",
        "\n",
        "    # gradients\n",
        "    grads = gradient(x_train , y_train , y_hat)\n",
        "\n",
        "    # gradient descent\n",
        "    w = gradient_descent(w, eta, grads)\n",
        "\n",
        "    # show each 100 data\n",
        "    if(epoch + 1) % 100 == 0:\n",
        "       print(f'Epoch = {epoch}, \\t E = {e:.4}, \\t w={w.T[0]}')\n"
      ],
      "metadata": {
        "colab": {
          "base_uri": "https://localhost:8080/"
        },
        "id": "qMV0r41bIgFv",
        "outputId": "61cf3546-ebab-43b5-fd2c-1ced48c9ad74"
      },
      "execution_count": 45,
      "outputs": [
        {
          "output_type": "stream",
          "name": "stdout",
          "text": [
            "Epoch = 99, \t E = 0.5011, \t w=[-0.23403927 -0.16697414 -0.09596951  0.05391951  0.00397796]\n",
            "Epoch = 199, \t E = 0.2714, \t w=[-0.16196924 -0.51908587 -0.23538073 -0.16203908 -0.11674525]\n",
            "Epoch = 299, \t E = 0.2109, \t w=[-0.07868287 -0.68861279 -0.32252507 -0.27117561 -0.17916654]\n",
            "Epoch = 399, \t E = 0.1801, \t w=[ 2.81950114e-04 -8.00674181e-01 -3.86410032e-01 -3.48746982e-01\n",
            " -2.19315843e-01]\n",
            "Epoch = 499, \t E = 0.1603, \t w=[ 0.07396893 -0.88454607 -0.43747521 -0.41036    -0.24731354]\n",
            "Epoch = 599, \t E = 0.1461, \t w=[ 0.14284695 -0.95163818 -0.48027003 -0.46204253 -0.26771867]\n",
            "Epoch = 699, \t E = 0.1352, \t w=[ 0.20750695 -1.00759599 -0.51722275 -0.50682741 -0.28300125]\n",
            "Epoch = 799, \t E = 0.1263, \t w=[ 0.26847004 -1.0556306  -0.54980097 -0.54648473 -0.29464707]\n",
            "Epoch = 899, \t E = 0.119, \t w=[ 0.32616927 -1.09774458 -0.5789675  -0.58215126 -0.30361444]\n",
            "Epoch = 999, \t E = 0.1128, \t w=[ 0.38096205 -1.13527156 -0.6053917  -0.61460748 -0.31055362]\n",
            "Epoch = 1099, \t E = 0.1074, \t w=[ 0.43314534 -1.16914441 -0.62955957 -0.64441608 -0.31592342]\n",
            "Epoch = 1199, \t E = 0.1027, \t w=[ 0.48296861 -1.20004114 -0.65183602 -0.6719983  -0.3200577 ]\n",
            "Epoch = 1299, \t E = 0.09852, \t w=[ 0.53064375 -1.22846985 -0.67250257 -0.69767884 -0.32320565]\n",
            "Epoch = 1399, \t E = 0.09478, \t w=[ 0.57635268 -1.25482094 -0.69178124 -0.72171407 -0.32555716]\n",
            "Epoch = 1499, \t E = 0.0914, \t w=[ 0.62025309 -1.27940066 -0.70985046 -0.74431039 -0.3272595 ]\n",
            "Epoch = 1599, \t E = 0.08834, \t w=[ 0.66248284 -1.30245357 -0.72685589 -0.76563674 -0.32842863]\n",
            "Epoch = 1699, \t E = 0.08554, \t w=[ 0.70316342 -1.32417786 -0.74291809 -0.78583338 -0.32915697]\n",
            "Epoch = 1799, \t E = 0.08298, \t w=[ 0.74240259 -1.34473627 -0.75813805 -0.80501811 -0.32951906]\n",
            "Epoch = 1899, \t E = 0.08062, \t w=[ 0.78029655 -1.36426398 -0.77260125 -0.82329099 -0.32957554]\n",
            "Epoch = 1999, \t E = 0.07843, \t w=[ 0.81693165 -1.38287437 -0.78638073 -0.84073776 -0.3293762 ]\n"
          ]
        }
      ]
    },
    {
      "cell_type": "code",
      "source": [
        "plt.plot(error_hist)\n",
        "\n"
      ],
      "metadata": {
        "colab": {
          "base_uri": "https://localhost:8080/",
          "height": 447
        },
        "id": "Xl5cTXOLI0Lz",
        "outputId": "0d16337f-ddfb-49f2-c302-a34c14cc3127"
      },
      "execution_count": 46,
      "outputs": [
        {
          "output_type": "execute_result",
          "data": {
            "text/plain": [
              "[<matplotlib.lines.Line2D at 0x7e1236c06da0>]"
            ]
          },
          "metadata": {},
          "execution_count": 46
        },
        {
          "output_type": "display_data",
          "data": {
            "text/plain": [
              "<Figure size 640x480 with 1 Axes>"
            ],
            "image/png": "[encoded data removed]"
          },
          "metadata": {}
        }
      ]
    },
    {
      "cell_type": "code",
      "source": [
        "# accuracy\n",
        "x_test = np.hstack((np.ones((len(x_test) , 1)), x_test))\n",
        "x_test.shape\n"
      ],
      "metadata": {
        "colab": {
          "base_uri": "https://localhost:8080/"
        },
        "id": "CzyV-IDyI2TE",
        "outputId": "b757ccdd-54b5-4f44-b9a5-5e0894fae6b6"
      },
      "execution_count": 47,
      "outputs": [
        {
          "output_type": "execute_result",
          "data": {
            "text/plain": [
              "(275, 5)"
            ]
          },
          "metadata": {},
          "execution_count": 47
        }
      ]
    },
    {
      "cell_type": "code",
      "source": [
        "y_hat = logistic_regression(x_test , w)\n",
        "accuracy(y_test , y_hat)"
      ],
      "metadata": {
        "colab": {
          "base_uri": "https://localhost:8080/"
        },
        "id": "P7x0rCH8I7mM",
        "outputId": "05c3205e-9a8b-4e3b-c855-67c63a44d81e"
      },
      "execution_count": 48,
      "outputs": [
        {
          "output_type": "execute_result",
          "data": {
            "text/plain": [
              "0.9818181818181818"
            ]
          },
          "metadata": {},
          "execution_count": 48
        }
      ]
    },
    {
      "cell_type": "markdown",
      "source": [
        "Q2-4"
      ],
      "metadata": {
        "id": "hjdaYjUzhNCo"
      }
    },
    {
      "cell_type": "code",
      "source": [
        "# normalized data :\n",
        "max1 = df[['f1' , 'f2','f3','f4']].max()\n",
        "\n",
        "min1 = df[['f1' , 'f2','f3','f4']].min()\n",
        "\n",
        "for i in range(4):\n",
        "  df[f'f{i+1}'] = (df[f'f{i+1}']-min1[i])/(max1[i]- min1[i])\n",
        "  print(df[f'f{i+1}'])"
      ],
      "metadata": {
        "colab": {
          "base_uri": "https://localhost:8080/"
        },
        "id": "TuukbQkMhNc7",
        "outputId": "753ed587-ffee-4771-fc7d-e020edfbd006"
      },
      "execution_count": 49,
      "outputs": [
        {
          "output_type": "stream",
          "name": "stdout",
          "text": [
            "534     0.648285\n",
            "111     0.741132\n",
            "1109    0.226936\n",
            "720     0.475339\n",
            "726     0.316884\n",
            "          ...   \n",
            "1283    0.594949\n",
            "218     0.414087\n",
            "217     0.495767\n",
            "1177    0.358169\n",
            "208     0.664474\n",
            "Name: f1, Length: 1371, dtype: float64\n",
            "534     0.336741\n",
            "111     0.876347\n",
            "1109    0.658148\n",
            "720     0.464189\n",
            "726     0.894697\n",
            "          ...   \n",
            "1283    0.667828\n",
            "218     0.899576\n",
            "217     0.800776\n",
            "1177    0.563142\n",
            "208     0.487727\n",
            "Name: f2, Length: 1371, dtype: float64\n",
            "534     0.595046\n",
            "111     0.089547\n",
            "1109    0.214231\n",
            "720     0.532961\n",
            "726     0.170379\n",
            "          ...   \n",
            "1283    0.022513\n",
            "218     0.100506\n",
            "217     0.279673\n",
            "1177    0.200058\n",
            "208     0.463235\n",
            "Name: f3, Length: 1371, dtype: float64\n",
            "534     0.607527\n",
            "111     0.541331\n",
            "1109    0.429981\n",
            "720     0.740625\n",
            "726     0.279831\n",
            "          ...   \n",
            "1283    0.539686\n",
            "218     0.244087\n",
            "217     0.447739\n",
            "1177    0.662320\n",
            "208     0.711466\n",
            "Name: f4, Length: 1371, dtype: float64\n"
          ]
        }
      ]
    },
    {
      "cell_type": "code",
      "source": [
        "X = df[['f1' , 'f2','f3','f4']].values\n",
        "y = df[['genuine']].values\n",
        "X , y"
      ],
      "metadata": {
        "colab": {
          "base_uri": "https://localhost:8080/"
        },
        "id": "uahZdaiGOaX1",
        "outputId": "26909f7d-7ac0-4bb9-c9d1-bc059f2a8c20"
      },
      "execution_count": 50,
      "outputs": [
        {
          "output_type": "execute_result",
          "data": {
            "text/plain": [
              "(array([[0.64828476, 0.33674092, 0.59504599, 0.60752703],\n",
              "        [0.74113176, 0.8763466 , 0.08954703, 0.54133137],\n",
              "        [0.22693609, 0.65814771, 0.21423137, 0.42998081],\n",
              "        ...,\n",
              "        [0.4957669 , 0.80077606, 0.27967347, 0.44773907],\n",
              "        [0.35816945, 0.56314196, 0.20005773, 0.6623203 ],\n",
              "        [0.6644744 , 0.48772708, 0.46323476, 0.71146603]]),\n",
              " array([[0],\n",
              "        [0],\n",
              "        [1],\n",
              "        ...,\n",
              "        [0],\n",
              "        [1],\n",
              "        [0]]))"
            ]
          },
          "metadata": {},
          "execution_count": 50
        }
      ]
    },
    {
      "cell_type": "markdown",
      "source": [
        "Q2-5"
      ],
      "metadata": {
        "id": "vOvXizsihVgx"
      }
    },
    {
      "cell_type": "code",
      "source": [
        "x_train , x_test , y_train , y_test = train_test_split(X , y , test_size = 0.2)\n",
        "x_train.shape , x_test.shape , y_train.shape , y_test.shape\n"
      ],
      "metadata": {
        "colab": {
          "base_uri": "https://localhost:8080/"
        },
        "id": "LcHvBTUuhV8K",
        "outputId": "c5e0af40-54d5-4eaf-f8a8-ed9a3ccc12de"
      },
      "execution_count": 57,
      "outputs": [
        {
          "output_type": "execute_result",
          "data": {
            "text/plain": [
              "((1096, 4), (275, 4), (1096, 1), (275, 1))"
            ]
          },
          "metadata": {},
          "execution_count": 57
        }
      ]
    },
    {
      "cell_type": "code",
      "source": [
        "x_train = np.hstack((np.ones((len(x_train) , 1)) , x_train))\n",
        "x_train.shape\n"
      ],
      "metadata": {
        "colab": {
          "base_uri": "https://localhost:8080/"
        },
        "id": "VbRxxiA_Pw-i",
        "outputId": "f6d72ca8-7a08-436e-e10c-10b390c3b3f6"
      },
      "execution_count": 58,
      "outputs": [
        {
          "output_type": "execute_result",
          "data": {
            "text/plain": [
              "(1096, 5)"
            ]
          },
          "metadata": {},
          "execution_count": 58
        }
      ]
    },
    {
      "cell_type": "code",
      "source": [
        "m = 4\n",
        "w = np.random.randn(m+1 , 1)\n",
        "print(w.shape)\n",
        "eta = 0.01\n",
        "n_epochs = 6000\n"
      ],
      "metadata": {
        "colab": {
          "base_uri": "https://localhost:8080/"
        },
        "id": "hwb0YtN1PzW5",
        "outputId": "561cd02a-2404-4cd5-e5f2-f2d8726b0fd8"
      },
      "execution_count": 59,
      "outputs": [
        {
          "output_type": "stream",
          "name": "stdout",
          "text": [
            "(5, 1)\n"
          ]
        }
      ]
    },
    {
      "cell_type": "code",
      "source": [
        "error_hist = []\n",
        "for epoch in range(n_epochs):\n",
        "  # prediction\n",
        "  y_hat = logistic_regression(x_train , w)\n",
        "\n",
        "  # loss\n",
        "  e = bce(y_train , y_hat)\n",
        "  error_hist.append(e)\n",
        "\n",
        "  # gradients\n",
        "  grads = gradient(x_train , y_train , y_hat)\n",
        "\n",
        "  # gradient descent\n",
        "  w = gradient_descent(w , eta , grads)\n",
        "\n",
        "  # show each 100 data\n",
        "  if(epoch + 1) % 100 == 0:\n",
        "      print(f\"Epoch = {epoch} , \\t E = {e:.4} \\t w={w.T[0]}\")\n"
      ],
      "metadata": {
        "colab": {
          "base_uri": "https://localhost:8080/"
        },
        "id": "JtqMK2_2P1Yv",
        "outputId": "f8085735-9513-41a9-96fb-768c43919698"
      },
      "execution_count": 64,
      "outputs": [
        {
          "output_type": "stream",
          "name": "stdout",
          "text": [
            "Epoch = 99 , \t E = 0.7825 \t w=[ 0.43729752  0.53623789  0.14734438 -0.32821039 -0.61800435]\n",
            "Epoch = 199 , \t E = 0.7326 \t w=[ 0.33092214  0.40066913  0.02783565 -0.33711049 -0.68539662]\n",
            "Epoch = 299 , \t E = 0.7111 \t w=[ 0.2815941   0.29787064 -0.05698378 -0.3305735  -0.71396847]\n",
            "Epoch = 399 , \t E = 0.6993 \t w=[ 0.2651973   0.21432795 -0.12130722 -0.31550994 -0.72034421]\n",
            "Epoch = 499 , \t E = 0.6908 \t w=[ 0.26769159  0.14213008 -0.17347412 -0.29588339 -0.71414765]\n",
            "Epoch = 599 , \t E = 0.6837 \t w=[ 0.28104341  0.07674192 -0.21827959 -0.27394388 -0.70086397]\n",
            "Epoch = 699 , \t E = 0.6771 \t w=[ 0.30063055  0.01555162 -0.25849234 -0.25097861 -0.68363981]\n",
            "Epoch = 799 , \t E = 0.6709 \t w=[ 0.32377172 -0.04295796 -0.29572514 -0.22772918 -0.66429526]\n",
            "Epoch = 899 , \t E = 0.6648 \t w=[ 0.34890202 -0.09967478 -0.33092543 -0.20462357 -0.64388872]\n",
            "Epoch = 999 , \t E = 0.659 \t w=[ 0.37510495 -0.15512182 -0.36465445 -0.1819074  -0.62303669]\n",
            "Epoch = 1099 , \t E = 0.6533 \t w=[ 0.40184309 -0.20960904 -0.39724785 -0.15971945 -0.6020974 ]\n",
            "Epoch = 1199 , \t E = 0.6478 \t w=[ 0.42880157 -0.26332148 -0.42890899 -0.13813561 -0.58127755]\n",
            "Epoch = 1299 , \t E = 0.6424 \t w=[ 0.45579652 -0.31637086 -0.45976349 -0.11719461 -0.5606947 ]\n",
            "Epoch = 1399 , \t E = 0.6372 \t w=[ 0.48272122 -0.36882575 -0.48989118 -0.09691326 -0.54041392]\n",
            "Epoch = 1499 , \t E = 0.6321 \t w=[ 0.50951449 -0.42072933 -0.51934492 -0.07729539 -0.5204694 ]\n",
            "Epoch = 1599 , \t E = 0.6272 \t w=[ 0.53614194 -0.47210987 -0.54816165 -0.05833721 -0.50087718]\n",
            "Epoch = 1699 , \t E = 0.6224 \t w=[ 0.56258502 -0.52298683 -0.57636887 -0.04003042 -0.48164265]\n",
            "Epoch = 1799 , \t E = 0.6178 \t w=[ 0.58883445 -0.57337454 -0.60398846 -0.02236412 -0.46276502]\n",
            "Epoch = 1899 , \t E = 0.6132 \t w=[ 0.61488642 -0.62328426 -0.63103895 -0.00532593 -0.4442399 ]\n",
            "Epoch = 1999 , \t E = 0.6088 \t w=[ 0.64074029 -0.67272546 -0.65753681  0.01109734 -0.42606091]\n",
            "Epoch = 2099 , \t E = 0.6045 \t w=[ 0.6663973  -0.72170655 -0.68349724  0.0269193  -0.40822055]\n",
            "Epoch = 2199 , \t E = 0.6003 \t w=[ 0.69185973 -0.77023529 -0.70893458  0.04215369 -0.39071074]\n",
            "Epoch = 2299 , \t E = 0.5962 \t w=[ 0.71713043 -0.81831905 -0.73386259  0.05681427 -0.37352317]\n",
            "Epoch = 2399 , \t E = 0.5923 \t w=[ 0.74221259 -0.86596493 -0.75829462  0.07091468 -0.35664948]\n",
            "Epoch = 2499 , \t E = 0.5884 \t w=[ 0.76710953 -0.91317988 -0.78224363  0.08446843 -0.34008137]\n",
            "Epoch = 2599 , \t E = 0.5846 \t w=[ 0.79182463 -0.95997068 -0.8057223   0.09748883 -0.32381066]\n",
            "Epoch = 2699 , \t E = 0.5809 \t w=[ 0.81636124 -1.00634403 -0.82874301  0.10998894 -0.30782931]\n",
            "Epoch = 2799 , \t E = 0.5773 \t w=[ 0.8407227  -1.05230651 -0.85131788  0.1219816  -0.2921295 ]\n",
            "Epoch = 2899 , \t E = 0.5738 \t w=[ 0.86491227 -1.09786462 -0.87345876  0.1334794  -0.27670358]\n",
            "Epoch = 2999 , \t E = 0.5703 \t w=[ 0.88893316 -1.14302475 -0.89517725  0.14449465 -0.2615441 ]\n",
            "Epoch = 3099 , \t E = 0.567 \t w=[ 0.91278848 -1.1877932  -0.91648465  0.1550394  -0.24664382]\n",
            "Epoch = 3199 , \t E = 0.5637 \t w=[ 0.93648128 -1.23217618 -0.93739203  0.16512542 -0.2319957 ]\n",
            "Epoch = 3299 , \t E = 0.5605 \t w=[ 0.96001452 -1.27617979 -0.9579102   0.17476423 -0.21759289]\n",
            "Epoch = 3399 , \t E = 0.5573 \t w=[ 0.9833911  -1.31981002 -0.97804968  0.18396704 -0.20342874]\n",
            "Epoch = 3499 , \t E = 0.5543 \t w=[ 1.00661382 -1.36307277 -0.99782076  0.19274482 -0.1894968 ]\n",
            "Epoch = 3599 , \t E = 0.5513 \t w=[ 1.02968541 -1.40597384 -1.01723344  0.20110824 -0.17579079]\n",
            "Epoch = 3699 , \t E = 0.5483 \t w=[ 1.05260853 -1.44851891 -1.0362975   0.20906771 -0.16230464]\n",
            "Epoch = 3799 , \t E = 0.5454 \t w=[ 1.07538578 -1.49071355 -1.05502243  0.21663339 -0.14903242]\n",
            "Epoch = 3899 , \t E = 0.5426 \t w=[ 1.09801966 -1.53256325 -1.07341749  0.22381516 -0.13596841]\n",
            "Epoch = 3999 , \t E = 0.5398 \t w=[ 1.12051262 -1.57407335 -1.09149169  0.23062262 -0.12310706]\n",
            "Epoch = 4099 , \t E = 0.5371 \t w=[ 1.14286704 -1.61524913 -1.10925379  0.23706516 -0.11044296]\n",
            "Epoch = 4199 , \t E = 0.5345 \t w=[ 1.16508524 -1.65609574 -1.12671231  0.24315188 -0.09797088]\n",
            "Epoch = 4299 , \t E = 0.5319 \t w=[ 1.18716947 -1.69661822 -1.14387554  0.24889166 -0.08568575]\n",
            "Epoch = 4399 , \t E = 0.5293 \t w=[ 1.20912193 -1.73682152 -1.16075154  0.25429312 -0.07358264]\n",
            "Epoch = 4499 , \t E = 0.5268 \t w=[ 1.23094474 -1.77671047 -1.17734814  0.25936466 -0.06165677]\n",
            "Epoch = 4599 , \t E = 0.5243 \t w=[ 1.25263999 -1.81628983 -1.19367294  0.26411443 -0.04990352]\n",
            "Epoch = 4699 , \t E = 0.5219 \t w=[ 1.27420969 -1.85556423 -1.20973335  0.26855037 -0.03831839]\n",
            "Epoch = 4799 , \t E = 0.5195 \t w=[ 1.29565582 -1.89453822 -1.22553654  0.27268021 -0.02689702]\n",
            "Epoch = 4899 , \t E = 0.5172 \t w=[ 1.31698029 -1.93321624 -1.2410895   0.27651144 -0.01563518]\n",
            "Epoch = 4999 , \t E = 0.5149 \t w=[ 1.33818498 -1.97160265 -1.25639901  0.28005136 -0.00452878]\n",
            "Epoch = 5099 , \t E = 0.5126 \t w=[ 1.35927169 -2.0097017  -1.27147163  0.28330706  0.00642615]\n",
            "Epoch = 5199 , \t E = 0.5104 \t w=[ 1.38024221 -2.04751757 -1.28631377  0.28628545  0.01723349]\n",
            "Epoch = 5299 , \t E = 0.5082 \t w=[ 1.40109827 -2.08505434 -1.30093164  0.28899321  0.02789696]\n",
            "Epoch = 5399 , \t E = 0.5061 \t w=[ 1.42184154 -2.122316   -1.31533125  0.29143687  0.03842019]\n",
            "Epoch = 5499 , \t E = 0.504 \t w=[ 1.44247367 -2.15930646 -1.32951846  0.29362276  0.04880671]\n",
            "Epoch = 5599 , \t E = 0.5019 \t w=[ 1.46299627 -2.19602955 -1.34349894  0.29555705  0.05905993]\n",
            "Epoch = 5699 , \t E = 0.4999 \t w=[ 1.48341091 -2.23248902 -1.35727823  0.29724572  0.06918316]\n",
            "Epoch = 5799 , \t E = 0.4979 \t w=[ 1.50371909 -2.26868852 -1.37086166  0.29869458  0.07917962]\n",
            "Epoch = 5899 , \t E = 0.4959 \t w=[ 1.52392232 -2.30463164 -1.38425443  0.29990932  0.08905243]\n",
            "Epoch = 5999 , \t E = 0.4939 \t w=[ 1.54402206 -2.34032191 -1.3974616   0.30089541  0.09880462]\n"
          ]
        }
      ]
    },
    {
      "cell_type": "code",
      "source": [
        "plt.plot(error_hist)\n"
      ],
      "metadata": {
        "colab": {
          "base_uri": "https://localhost:8080/",
          "height": 447
        },
        "id": "xJBW8hzVP53k",
        "outputId": "ef3232e2-d793-4f08-ce67-8ce1731eb39a"
      },
      "execution_count": 65,
      "outputs": [
        {
          "output_type": "execute_result",
          "data": {
            "text/plain": [
              "[<matplotlib.lines.Line2D at 0x7e1233e2e260>]"
            ]
          },
          "metadata": {},
          "execution_count": 65
        },
        {
          "output_type": "display_data",
          "data": {
            "text/plain": [
              "<Figure size 640x480 with 1 Axes>"
            ],
            "image/png": "[encoded data removed]"
          },
          "metadata": {}
        }
      ]
    },
    {
      "cell_type": "code",
      "source": [
        "x_test = np.hstack((np.ones((len(x_test) , 1)), x_test))\n",
        "x_test.shape\n"
      ],
      "metadata": {
        "colab": {
          "base_uri": "https://localhost:8080/"
        },
        "id": "RxnjoDjUP7-_",
        "outputId": "3855d791-7a77-4735-bd7a-22323e7886e5"
      },
      "execution_count": 69,
      "outputs": [
        {
          "output_type": "execute_result",
          "data": {
            "text/plain": [
              "(275, 8)"
            ]
          },
          "metadata": {},
          "execution_count": 69
        }
      ]
    },
    {
      "cell_type": "code",
      "source": [
        "y_hat = logistic_regression(x_test , w)\n",
        "accuracy(y_test , y_hat)"
      ],
      "metadata": {
        "colab": {
          "base_uri": "https://localhost:8080/",
          "height": 297
        },
        "id": "7ZbdkWuzP97F",
        "outputId": "cc433a32-c395-4638-de29-71035a5dbfcd"
      },
      "execution_count": 70,
      "outputs": [
        {
          "output_type": "error",
          "ename": "ValueError",
          "evalue": "ignored",
          "traceback": [
            "\u001b[0;31m---------------------------------------------------------------------------\u001b[0m",
            "\u001b[0;31mValueError\u001b[0m                                Traceback (most recent call last)",
            "\u001b[0;32m<ipython-input-70-8747febfeb8f>\u001b[0m in \u001b[0;36m<cell line: 1>\u001b[0;34m()\u001b[0m\n\u001b[0;32m----> 1\u001b[0;31m \u001b[0my_hat\u001b[0m \u001b[0;34m=\u001b[0m \u001b[0mlogistic_regression\u001b[0m\u001b[0;34m(\u001b[0m\u001b[0mx_test\u001b[0m \u001b[0;34m,\u001b[0m \u001b[0mw\u001b[0m\u001b[0;34m)\u001b[0m\u001b[0;34m\u001b[0m\u001b[0;34m\u001b[0m\u001b[0m\n\u001b[0m\u001b[1;32m      2\u001b[0m \u001b[0maccuracy\u001b[0m\u001b[0;34m(\u001b[0m\u001b[0my_test\u001b[0m \u001b[0;34m,\u001b[0m \u001b[0my_hat\u001b[0m\u001b[0;34m)\u001b[0m\u001b[0;34m\u001b[0m\u001b[0;34m\u001b[0m\u001b[0m\n",
            "\u001b[0;32m<ipython-input-22-2184d1a52f1f>\u001b[0m in \u001b[0;36mlogistic_regression\u001b[0;34m(x, w)\u001b[0m\n\u001b[1;32m      1\u001b[0m \u001b[0;31m# model\u001b[0m\u001b[0;34m\u001b[0m\u001b[0;34m\u001b[0m\u001b[0m\n\u001b[1;32m      2\u001b[0m \u001b[0;32mdef\u001b[0m \u001b[0mlogistic_regression\u001b[0m\u001b[0;34m(\u001b[0m\u001b[0mx\u001b[0m \u001b[0;34m,\u001b[0m \u001b[0mw\u001b[0m\u001b[0;34m)\u001b[0m\u001b[0;34m:\u001b[0m\u001b[0;34m\u001b[0m\u001b[0;34m\u001b[0m\u001b[0m\n\u001b[0;32m----> 3\u001b[0;31m   \u001b[0my_hat\u001b[0m \u001b[0;34m=\u001b[0m \u001b[0msigmoid\u001b[0m\u001b[0;34m(\u001b[0m\u001b[0mx\u001b[0m \u001b[0;34m@\u001b[0m \u001b[0mw\u001b[0m\u001b[0;34m)\u001b[0m\u001b[0;34m\u001b[0m\u001b[0;34m\u001b[0m\u001b[0m\n\u001b[0m\u001b[1;32m      4\u001b[0m   \u001b[0;32mreturn\u001b[0m \u001b[0my_hat\u001b[0m\u001b[0;34m\u001b[0m\u001b[0;34m\u001b[0m\u001b[0m\n",
            "\u001b[0;31mValueError\u001b[0m: matmul: Input operand 1 has a mismatch in its core dimension 0, with gufunc signature (n?,k),(k,m?)->(n?,m?) (size 5 is different from 8)"
          ]
        }
      ]
    },
    {
      "cell_type": "markdown",
      "source": [
        "Q2-6"
      ],
      "metadata": {
        "id": "-trFjkcRhWT1"
      }
    },
    {
      "cell_type": "code",
      "source": [
        "import matplotlib.pyplot as plt\n",
        "import numpy as np\n",
        "import pandas as pd\n",
        "\n",
        "# value_count\n",
        "new_y = pd.DataFrame(y, columns=['Column_A'])\n",
        "new_y.value_counts()\n",
        "new_y.value_counts().plot.pie(autopct = \"%.2f\")"
      ],
      "metadata": {
        "colab": {
          "base_uri": "https://localhost:8080/",
          "height": 423
        },
        "id": "GJHsTBTzhWwe",
        "outputId": "aff0129b-46f5-4b6f-86b3-50a7c2aaf3e7"
      },
      "execution_count": 71,
      "outputs": [
        {
          "output_type": "execute_result",
          "data": {
            "text/plain": [
              "<Axes: >"
            ]
          },
          "metadata": {},
          "execution_count": 71
        },
        {
          "output_type": "display_data",
          "data": {
            "text/plain": [
              "<Figure size 640x480 with 1 Axes>"
            ],
            "image/png": "[encoded data removed]"
          },
          "metadata": {}
        }
      ]
    },
    {
      "cell_type": "code",
      "source": [
        "! pip install -U imbalanced-learn"
      ],
      "metadata": {
        "colab": {
          "base_uri": "https://localhost:8080/"
        },
        "id": "a_YDpTwjSu5f",
        "outputId": "7818304c-a371-4620-faa8-d6d316572bac"
      },
      "execution_count": 72,
      "outputs": [
        {
          "output_type": "stream",
          "name": "stdout",
          "text": [
            "Requirement already satisfied: imbalanced-learn in /usr/local/lib/python3.10/dist-packages (0.10.1)\n",
            "Collecting imbalanced-learn\n",
            "  Downloading imbalanced_learn-0.11.0-py3-none-any.whl (235 kB)\n",
            "\u001b[2K     \u001b[90m━━━━━━━━━━━━━━━━━━━━━━━━━━━━━━━━━━━━━━━━\u001b[0m \u001b[32m235.6/235.6 kB\u001b[0m \u001b[31m4.3 MB/s\u001b[0m eta \u001b[36m0:00:00\u001b[0m\n",
            "\u001b[?25hRequirement already satisfied: numpy>=1.17.3 in /usr/local/lib/python3.10/dist-packages (from imbalanced-learn) (1.23.5)\n",
            "Requirement already satisfied: scipy>=1.5.0 in /usr/local/lib/python3.10/dist-packages (from imbalanced-learn) (1.11.3)\n",
            "Requirement already satisfied: scikit-learn>=1.0.2 in /usr/local/lib/python3.10/dist-packages (from imbalanced-learn) (1.2.2)\n",
            "Requirement already satisfied: joblib>=1.1.1 in /usr/local/lib/python3.10/dist-packages (from imbalanced-learn) (1.3.2)\n",
            "Requirement already satisfied: threadpoolctl>=2.0.0 in /usr/local/lib/python3.10/dist-packages (from imbalanced-learn) (3.2.0)\n",
            "Installing collected packages: imbalanced-learn\n",
            "  Attempting uninstall: imbalanced-learn\n",
            "    Found existing installation: imbalanced-learn 0.10.1\n",
            "    Uninstalling imbalanced-learn-0.10.1:\n",
            "      Successfully uninstalled imbalanced-learn-0.10.1\n",
            "Successfully installed imbalanced-learn-0.11.0\n"
          ]
        }
      ]
    },
    {
      "cell_type": "code",
      "source": [
        "# undersampling\n",
        "from imblearn.under_sampling import RandomUnderSampler\n",
        "\n",
        "y = pd.DataFrame(y, columns=[''])\n",
        "rus = RandomUnderSampler(sampling_strategy=1)\n",
        "x_res_undersampling , y_res_undersampling = rus.fit_resample(X , y)\n",
        "ax = y_res_undersampling.value_counts().plot.pie(autopct = '%.2f')\n",
        "_ = ax.set_title(\"under sampling\")"
      ],
      "metadata": {
        "colab": {
          "base_uri": "https://localhost:8080/",
          "height": 428
        },
        "id": "v1SQPFAZSyLV",
        "outputId": "7e8ac60a-a24d-4e7e-84cb-ce7885b01344"
      },
      "execution_count": 80,
      "outputs": [
        {
          "output_type": "display_data",
          "data": {
            "text/plain": [
              "<Figure size 640x480 with 1 Axes>"
            ],
            "image/png": "[encoded data removed]"
          },
          "metadata": {}
        }
      ]
    },
    {
      "cell_type": "code",
      "source": [],
      "metadata": {
        "id": "S_7po-PkkQF-"
      },
      "execution_count": null,
      "outputs": []
    },
    {
      "cell_type": "markdown",
      "source": [
        "Q2-7"
      ],
      "metadata": {
        "id": "hhq6e888habp"
      }
    },
    {
      "cell_type": "code",
      "source": [
        "from sklearn.linear_model import LogisticRegression\n",
        "from sklearn.datasets import make_classification\n",
        "from sklearn.model_selection import train_test_split\n",
        "from sklearn.metrics import accuracy_score\n",
        "\n",
        "X = x_res_undersampling\n",
        "y = y_res_undersampling\n",
        "x_train , x_test , y_train , y_test = train_test_split(X , y , test_size = 0.2)"
      ],
      "metadata": {
        "id": "psU7mdz_ha-y"
      },
      "execution_count": 74,
      "outputs": []
    },
    {
      "cell_type": "code",
      "source": [
        "model = LogisticRegression()\n",
        "model.fit(X , y)"
      ],
      "metadata": {
        "colab": {
          "base_uri": "https://localhost:8080/",
          "height": 109
        },
        "id": "gwMz5nyhTN-h",
        "outputId": "4e4d29ef-464b-4b5e-d03d-60ece4d7a6f3"
      },
      "execution_count": 75,
      "outputs": [
        {
          "output_type": "stream",
          "name": "stderr",
          "text": [
            "/usr/local/lib/python3.10/dist-packages/sklearn/utils/validation.py:1143: DataConversionWarning: A column-vector y was passed when a 1d array was expected. Please change the shape of y to (n_samples, ), for example using ravel().\n",
            "  y = column_or_1d(y, warn=True)\n"
          ]
        },
        {
          "output_type": "execute_result",
          "data": {
            "text/plain": [
              "LogisticRegression()"
            ],
            "text/html": [
              "<style>#sk-container-id-1 {color: black;background-color: white;}#sk-container-id-1 pre{padding: 0;}#sk-container-id-1 div.sk-toggleable {background-color: white;}#sk-container-id-1 label.sk-toggleable__label {cursor: pointer;display: block;width: 100%;margin-bottom: 0;padding: 0.3em;box-sizing: border-box;text-align: center;}#sk-container-id-1 label.sk-toggleable__label-arrow:before {content: \"▸\";float: left;margin-right: 0.25em;color: #696969;}#sk-container-id-1 label.sk-toggleable__label-arrow:hover:before {color: black;}#sk-container-id-1 div.sk-estimator:hover label.sk-toggleable__label-arrow:before {color: black;}#sk-container-id-1 div.sk-toggleable__content {max-height: 0;max-width: 0;overflow: hidden;text-align: left;background-color: #f0f8ff;}#sk-container-id-1 div.sk-toggleable__content pre {margin: 0.2em;color: black;border-radius: 0.25em;background-color: #f0f8ff;}#sk-container-id-1 input.sk-toggleable__control:checked~div.sk-toggleable__content {max-height: 200px;max-width: 100%;overflow: auto;}#sk-container-id-1 input.sk-toggleable__control:checked~label.sk-toggleable__label-arrow:before {content: \"▾\";}#sk-container-id-1 div.sk-estimator input.sk-toggleable__control:checked~label.sk-toggleable__label {background-color: #d4ebff;}#sk-container-id-1 div.sk-label input.sk-toggleable__control:checked~label.sk-toggleable__label {background-color: #d4ebff;}#sk-container-id-1 input.sk-hidden--visually {border: 0;clip: rect(1px 1px 1px 1px);clip: rect(1px, 1px, 1px, 1px);height: 1px;margin: -1px;overflow: hidden;padding: 0;position: absolute;width: 1px;}#sk-container-id-1 div.sk-estimator {font-family: monospace;background-color: #f0f8ff;border: 1px dotted black;border-radius: 0.25em;box-sizing: border-box;margin-bottom: 0.5em;}#sk-container-id-1 div.sk-estimator:hover {background-color: #d4ebff;}#sk-container-id-1 div.sk-parallel-item::after {content: \"\";width: 100%;border-bottom: 1px solid gray;flex-grow: 1;}#sk-container-id-1 div.sk-label:hover label.sk-toggleable__label {background-color: #d4ebff;}#sk-container-id-1 div.sk-serial::before {content: \"\";position: absolute;border-left: 1px solid gray;box-sizing: border-box;top: 0;bottom: 0;left: 50%;z-index: 0;}#sk-container-id-1 div.sk-serial {display: flex;flex-direction: column;align-items: center;background-color: white;padding-right: 0.2em;padding-left: 0.2em;position: relative;}#sk-container-id-1 div.sk-item {position: relative;z-index: 1;}#sk-container-id-1 div.sk-parallel {display: flex;align-items: stretch;justify-content: center;background-color: white;position: relative;}#sk-container-id-1 div.sk-item::before, #sk-container-id-1 div.sk-parallel-item::before {content: \"\";position: absolute;border-left: 1px solid gray;box-sizing: border-box;top: 0;bottom: 0;left: 50%;z-index: -1;}#sk-container-id-1 div.sk-parallel-item {display: flex;flex-direction: column;z-index: 1;position: relative;background-color: white;}#sk-container-id-1 div.sk-parallel-item:first-child::after {align-self: flex-end;width: 50%;}#sk-container-id-1 div.sk-parallel-item:last-child::after {align-self: flex-start;width: 50%;}#sk-container-id-1 div.sk-parallel-item:only-child::after {width: 0;}#sk-container-id-1 div.sk-dashed-wrapped {border: 1px dashed gray;margin: 0 0.4em 0.5em 0.4em;box-sizing: border-box;padding-bottom: 0.4em;background-color: white;}#sk-container-id-1 div.sk-label label {font-family: monospace;font-weight: bold;display: inline-block;line-height: 1.2em;}#sk-container-id-1 div.sk-label-container {text-align: center;}#sk-container-id-1 div.sk-container {/* jupyter's `normalize.less` sets `[hidden] { display: none; }` but bootstrap.min.css set `[hidden] { display: none !important; }` so we also need the `!important` here to be able to override the default hidden behavior on the sphinx rendered scikit-learn.org. See: https://github.com/scikit-learn/scikit-learn/issues/21755 */display: inline-block !important;position: relative;}#sk-container-id-1 div.sk-text-repr-fallback {display: none;}</style><div id=\"sk-container-id-1\" class=\"sk-top-container\"><div class=\"sk-text-repr-fallback\"><pre>LogisticRegression()</pre><b>In a Jupyter environment, please rerun this cell to show the HTML representation or trust the notebook. <br />On GitHub, the HTML representation is unable to render, please try loading this page with nbviewer.org.</b></div><div class=\"sk-container\" hidden><div class=\"sk-item\"><div class=\"sk-estimator sk-toggleable\"><input class=\"sk-toggleable__control sk-hidden--visually\" id=\"sk-estimator-id-1\" type=\"checkbox\" checked><label for=\"sk-estimator-id-1\" class=\"sk-toggleable__label sk-toggleable__label-arrow\">LogisticRegression</label><div class=\"sk-toggleable__content\"><pre>LogisticRegression()</pre></div></div></div></div></div>"
            ]
          },
          "metadata": {},
          "execution_count": 75
        }
      ]
    },
    {
      "cell_type": "code",
      "source": [
        "y_hat = model.predict(x_test)\n",
        "model.score(x_test , y_test)\n",
        "#y_test.shape ,\n",
        "y_hat = y_hat.reshape(244 , 1)\n",
        "#y_test.shape , y_hat.shape\n",
        "\n",
        "from sklearn.metrics import accuracy_score\n",
        "score = accuracy_score(y_test, y_hat)\n",
        "score"
      ],
      "metadata": {
        "colab": {
          "base_uri": "https://localhost:8080/"
        },
        "id": "BjDj9KxwTQ6q",
        "outputId": "5bfa590f-09fb-40e0-ec5e-960c4b9e87d7"
      },
      "execution_count": 77,
      "outputs": [
        {
          "output_type": "execute_result",
          "data": {
            "text/plain": [
              "0.9631147540983607"
            ]
          },
          "metadata": {},
          "execution_count": 77
        }
      ]
    },
    {
      "cell_type": "code",
      "source": [
        "# Unbalanced datas\n",
        "from sklearn.linear_model import LogisticRegression\n",
        "from sklearn.datasets import make_classification\n",
        "from sklearn.linear_model import LogisticRegression , SGDClassifier\n",
        "import matplotlib.pyplot as plt\n",
        "from sklearn.model_selection import train_test_split\n",
        "\n",
        "X = df[[\"f1\" ,\"f2\" , \"f3\" , \"f4\"]].values\n",
        "y = df[[\"genuine\"]].values\n",
        "x_train , x_test , y_train , y_test = train_test_split(X , y , test_size = 0.2)\n",
        "model = LogisticRegression(random_state = 13, solver='sag', max_iter=200)\n",
        "model.fit(X , y)\n",
        "y_hat = model.predict(x_test)\n",
        "model.score(x_test , y_test)"
      ],
      "metadata": {
        "colab": {
          "base_uri": "https://localhost:8080/"
        },
        "id": "ChyW4lsQTUdB",
        "outputId": "ec7736e1-2582-4314-8249-56b2d0f4d7f8"
      },
      "execution_count": 78,
      "outputs": [
        {
          "output_type": "stream",
          "name": "stderr",
          "text": [
            "/usr/local/lib/python3.10/dist-packages/sklearn/utils/validation.py:1143: DataConversionWarning: A column-vector y was passed when a 1d array was expected. Please change the shape of y to (n_samples, ), for example using ravel().\n",
            "  y = column_or_1d(y, warn=True)\n"
          ]
        },
        {
          "output_type": "execute_result",
          "data": {
            "text/plain": [
              "0.9781818181818182"
            ]
          },
          "metadata": {},
          "execution_count": 78
        }
      ]
    }
  ]
}