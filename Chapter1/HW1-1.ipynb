{
  "nbformat": 4,
  "nbformat_minor": 0,
  "metadata": {
    "colab": {
      "provenance": [],
      "authorship_tag": "ABX9TyPOVcOPgltZw6NwXkJm8Y6F",
      "include_colab_link": true
    },
    "kernelspec": {
      "name": "python3",
      "display_name": "Python 3"
    },
    "language_info": {
      "name": "python"
    }
  },
  "cells": [
    {
      "cell_type": "markdown",
      "metadata": {
        "id": "view-in-github",
        "colab_type": "text"
      },
      "source": [
        "<a href=\"https://colab.research.google.com/github/MasumeShariftabar/MachineLearning2023/blob/main/Chapter1/HW1-1.ipynb\" target=\"_parent\"><img src=\"https://colab.research.google.com/assets/colab-badge.svg\" alt=\"Open In Colab\"/></a>"
      ]
    },
    {
      "cell_type": "markdown",
      "source": [
        "**Question** **1: Write a Python program that asks the user for their age. If the age is greater than or equal to 18, print \"You are an adult.\" Otherwise, print \"You are a minor.\"**"
      ],
      "metadata": {
        "id": "n6_m-hDPfAmm"
      }
    },
    {
      "cell_type": "code",
      "execution_count": null,
      "metadata": {
        "colab": {
          "base_uri": "https://localhost:8080/"
        },
        "id": "yaoqMVtPUhTi",
        "outputId": "16c21796-2fc7-497d-be81-92e90f732341"
      },
      "outputs": [
        {
          "output_type": "stream",
          "name": "stdout",
          "text": [
            "Enter your age: 15\n",
            "You are a minor.\n"
          ]
        }
      ],
      "source": [
        "\n",
        "age = int(input (\"Enter your age: \"))\n",
        "\n",
        "if age >= 18 :\n",
        "  print(\"You are an adult.\")\n",
        "else :\n",
        "    print(\"You are a minor.\")\n"
      ]
    },
    {
      "cell_type": "markdown",
      "source": [
        "**Question 2: Write a Python program to print the numbers from 1 to 10 using a for loop.**"
      ],
      "metadata": {
        "id": "Qd_rQuZ7foQ-"
      }
    },
    {
      "cell_type": "code",
      "source": [
        "\n",
        "for i in range(1,11):\n",
        "  print(i)"
      ],
      "metadata": {
        "colab": {
          "base_uri": "https://localhost:8080/"
        },
        "id": "NJnG2ETMlzlu",
        "outputId": "19f313e4-4c6f-4b10-bbcf-caffec8a8865"
      },
      "execution_count": null,
      "outputs": [
        {
          "output_type": "stream",
          "name": "stdout",
          "text": [
            "1\n",
            "2\n",
            "3\n",
            "4\n",
            "5\n",
            "6\n",
            "7\n",
            "8\n",
            "9\n",
            "10\n"
          ]
        }
      ]
    },
    {
      "cell_type": "markdown",
      "source": [
        "**Question 3: Write a Python program to calculate the sum of all even numbers from 1 to 20 using a while loop**.\n"
      ],
      "metadata": {
        "id": "QizUBQIuftY9"
      }
    },
    {
      "cell_type": "code",
      "source": [
        "\n",
        "sum = 0\n",
        "i= 1\n",
        "while i < 21 :\n",
        "  if i % 2 == 0:\n",
        "    sum += i\n",
        "  i += 1\n",
        "print (\"Sum of even numbers from 1 to 20: \",sum)"
      ],
      "metadata": {
        "id": "oxbh8OUnmRCS",
        "colab": {
          "base_uri": "https://localhost:8080/"
        },
        "outputId": "e4e65185-30d8-441b-809e-c23d5659a697"
      },
      "execution_count": null,
      "outputs": [
        {
          "output_type": "stream",
          "name": "stdout",
          "text": [
            "Sum of even numbers from 1 to 20:  110\n"
          ]
        }
      ]
    },
    {
      "cell_type": "markdown",
      "source": [
        "**Question 4: Define a function called multiply that takes two parameters and returns their product.**\n"
      ],
      "metadata": {
        "id": "5wEPb2O9f2sE"
      }
    },
    {
      "cell_type": "code",
      "source": [
        "\n",
        "def multiply(a,b):\n",
        "  product = a*b\n",
        "  print(\"product of \" , a , \" and \", b , \" is \" , product , \".\")\n",
        "\n",
        "x = float(input())\n",
        "y = float(input())\n",
        "multiply(x,y)"
      ],
      "metadata": {
        "colab": {
          "base_uri": "https://localhost:8080/"
        },
        "id": "YNR0iK7OpoiP",
        "outputId": "bcdefcf8-ec25-490d-9a0a-6a023b43852d"
      },
      "execution_count": null,
      "outputs": [
        {
          "output_type": "stream",
          "name": "stdout",
          "text": [
            "2.3\n",
            "3.2\n",
            "product of  2.3  and  3.2  is  7.359999999999999 .\n"
          ]
        }
      ]
    },
    {
      "cell_type": "markdown",
      "source": [
        "**Question 5: Create a class called Person with a constructor method that initializes the name and age attributes. Then, create an instance of the Person class and print the person's name and age.**\n"
      ],
      "metadata": {
        "id": "oaJjk82Df8JS"
      }
    },
    {
      "cell_type": "code",
      "source": [
        "\n",
        "class Person:\n",
        "    def __init__(self, name, age):\n",
        "      self.name = name\n",
        "      self.age = age\n",
        "person_instance = Person(\"Alice\", 25)\n",
        "\n",
        "print(\"Name:\", person_instance.name)\n",
        "print(\"Age:\", person_instance.age)\n"
      ],
      "metadata": {
        "colab": {
          "base_uri": "https://localhost:8080/"
        },
        "id": "SB1Dzbp-sELy",
        "outputId": "b02c13e9-2509-405e-f7e9-8a15126ef407"
      },
      "execution_count": null,
      "outputs": [
        {
          "output_type": "stream",
          "name": "stdout",
          "text": [
            "Name: Alice\n",
            "Age: 25\n"
          ]
        }
      ]
    },
    {
      "cell_type": "markdown",
      "source": [
        "**Question 6: Create a subclass called Student that inherits from the Person class. Add an additional attribute called student_id to the Student class. Create an instance of the Student class and print the student's name, age, and student ID.**\n"
      ],
      "metadata": {
        "id": "T4HHMW6DgD1e"
      }
    },
    {
      "cell_type": "code",
      "source": [
        "\n",
        "class Person:\n",
        "    def __init__(self, name, age):\n",
        "      self.name = name\n",
        "      self.age = age\n",
        "class Student(Person):\n",
        "    def __init__(self, name, age, student_id):\n",
        "      super().__init__(name, age)\n",
        "      self.student_id = student_id\n",
        "student = Student(\"Bob\" , 20, \"12345\")\n",
        "print(\"Student Name:\" , student.name , \"\\nStudent Age:\" , student.age , \"\\nStudent ID:\" , student.student_id )"
      ],
      "metadata": {
        "id": "GHiy-4bxuhH5",
        "colab": {
          "base_uri": "https://localhost:8080/"
        },
        "outputId": "fb387b25-a02f-4b03-86ab-35e73e60c403"
      },
      "execution_count": null,
      "outputs": [
        {
          "output_type": "stream",
          "name": "stdout",
          "text": [
            "Student Name: Bob \n",
            "Student Age: 20 \n",
            "Student ID: 12345\n"
          ]
        }
      ]
    },
    {
      "cell_type": "markdown",
      "source": [
        "**Question 7: Write a Python program that prompts the user to enter a number and then prints whether the number is prime or not. Create a function called is_prime that takes an integer as an argument and returns True if it's prime, and False otherwise.**\n"
      ],
      "metadata": {
        "id": "b537v8iZgIR2"
      }
    },
    {
      "cell_type": "code",
      "source": [
        "\n",
        "def is_prime(a):\n",
        "  if a <= 1 :\n",
        "    return False\n",
        "  for i in range(2, int(a**0.5)+1) :\n",
        "    if a % i == 0 :\n",
        "      return False\n",
        "  return True\n",
        "\n",
        "\n",
        "num = int(input(\"Enter a number: \"))\n",
        "if is_prime(num):\n",
        "  print(num , \" is a prime number.\")\n",
        "else:\n",
        "  print(num , \" is not a prime number.\")\n"
      ],
      "metadata": {
        "colab": {
          "base_uri": "https://localhost:8080/"
        },
        "id": "nCGWBoiGvkyL",
        "outputId": "8887b7fa-662b-4a72-b3c2-308d3d84df32"
      },
      "execution_count": null,
      "outputs": [
        {
          "output_type": "stream",
          "name": "stdout",
          "text": [
            "Enter a number: 60\n",
            "60  is not a prime number.\n"
          ]
        }
      ]
    },
    {
      "cell_type": "markdown",
      "source": [
        "**Question 8: Write a Python program that calculates the factorial of a given number using a recursive function. Prompt the user for an integer input and print its factorial.**\n"
      ],
      "metadata": {
        "id": "p2DxnX43gMiw"
      }
    },
    {
      "cell_type": "code",
      "source": [
        "\n",
        "def factorial(n):\n",
        "  if n >= 2 :\n",
        "    return n*factorial(n-1)\n",
        "  else :\n",
        "    return 1\n",
        "num = int(input(\"Enter an integer: \"))\n",
        "print(factorial(num))\n",
        "\n"
      ],
      "metadata": {
        "colab": {
          "base_uri": "https://localhost:8080/"
        },
        "id": "uIQqWryM8xuk",
        "outputId": "9a235d2c-0f35-4162-9015-1abc5404b21d"
      },
      "execution_count": null,
      "outputs": [
        {
          "output_type": "stream",
          "name": "stdout",
          "text": [
            "Enter an integer: 5\n",
            "120\n"
          ]
        }
      ]
    },
    {
      "cell_type": "markdown",
      "source": [
        "**Question 9: Create a class called Rectangle with attributes width and height. Add a method calculate_area that calculates and returns the area of the rectangle. Create an instance of the Rectangle class and print its area.**\n"
      ],
      "metadata": {
        "id": "wT8MExQhgPyH"
      }
    },
    {
      "cell_type": "code",
      "source": [
        "\n",
        "class Rectangle:\n",
        "  def __init__(self,width,height) :\n",
        "    self.width = width\n",
        "    self.height = height\n",
        "\n",
        "  def calculate_area(self):\n",
        "    return self.width*self.height\n",
        "\n",
        "\n",
        "rectangle_instance = Rectangle(5 , 8)\n",
        "\n",
        "print(\"Area of the rectangle:\", rectangle_instance.calculate_area())\n",
        "\n"
      ],
      "metadata": {
        "colab": {
          "base_uri": "https://localhost:8080/"
        },
        "id": "BOXCuenYCjvE",
        "outputId": "7b11abd1-70f8-4e0d-b8c2-37a55871732b"
      },
      "execution_count": null,
      "outputs": [
        {
          "output_type": "stream",
          "name": "stdout",
          "text": [
            "Area of the rectangle: 40\n"
          ]
        }
      ]
    },
    {
      "cell_type": "markdown",
      "source": [
        "**Question 10: Create a subclass called Square that inherits from the Rectangle class. Add a method calculate_perimeter to the Square class that calculates and returns the perimeter of the square. Create an instance of the Square class and print its perimeter.**\n"
      ],
      "metadata": {
        "id": "IDBSR3K0gVYy"
      }
    },
    {
      "cell_type": "code",
      "source": [
        "\n",
        "class Rectangle:\n",
        "  def __init__(self, width, height) :\n",
        "    self.width = width\n",
        "    self.height = height\n",
        "\n",
        "class Square(Rectangle):\n",
        "    def __init__(self, side):\n",
        "      super().__init__(side, side)\n",
        "      self.side = side\n",
        "\n",
        "    def calculate_perimeter(self):\n",
        "     return 4*(self.side)\n",
        "\n",
        "    #  return 2*(self.width + self.height)\n",
        "\n",
        "square_instance = Square(4)\n",
        "\n",
        "print(\"Perimeter of the square:\", square_instance.calculate_perimeter())"
      ],
      "metadata": {
        "colab": {
          "base_uri": "https://localhost:8080/"
        },
        "id": "AvWAED3aKYtB",
        "outputId": "6dcf2ff3-de5e-433e-cc9a-62258412ce56"
      },
      "execution_count": null,
      "outputs": [
        {
          "output_type": "stream",
          "name": "stdout",
          "text": [
            "Perimeter of the square: 16\n"
          ]
        }
      ]
    },
    {
      "cell_type": "markdown",
      "source": [
        "**Question 11: Create a base class called Animal with attributes name and species. Provide a constructor to initialize these attributes and a method called speak that prints a generic message like \"The animal makes a sound.\"**\n"
      ],
      "metadata": {
        "id": "MC-9kTqegY-5"
      }
    },
    {
      "cell_type": "code",
      "source": [
        "\n",
        "class Animal:\n",
        "  def __init__(self, name, species) :\n",
        "    self.name = name\n",
        "    self.species = species\n",
        "\n",
        "  def Speak(self):\n",
        "      print(f\"The {self.species} named {self.name} makes a sound.\")\n",
        "\n",
        "animal = Animal(\"Lucy \" , \" Cat\")\n",
        "animal.Speak()\n"
      ],
      "metadata": {
        "colab": {
          "base_uri": "https://localhost:8080/"
        },
        "outputId": "a32c3aa1-d595-46e5-a6fc-9bb7d6d8fcd0",
        "id": "D7mxdmJnCZnb"
      },
      "execution_count": null,
      "outputs": [
        {
          "output_type": "stream",
          "name": "stdout",
          "text": [
            "The  Cat named Lucci  makes a sound.\n"
          ]
        }
      ]
    },
    {
      "cell_type": "markdown",
      "source": [
        "**Question 12: Create a subclass called Dog that inherits from the Animal class. Add a constructor to initialize the name, species, and breed attributes specific to dogs. Override the speak method in the Dog class to print \"Woof!\"**\n"
      ],
      "metadata": {
        "id": "MmXk2-oKgc-l"
      }
    },
    {
      "cell_type": "code",
      "source": [
        "\n",
        "class Animal:\n",
        "  def __init__(self, name, species) :\n",
        "    self.name = name\n",
        "    self.species = species\n",
        "\n",
        "  def Speak(self):\n",
        "    print(f\"The {self.species} named {self.name} makes a sound.\")\n",
        "\n",
        "class Dog(Animal):\n",
        "  def __init__(self, name, breed):\n",
        "    super().__init__(name, species=\"Dog\")\n",
        "    self.breed = breed\n",
        "\n",
        "  def speak(self):\n",
        "    print(f\"The {self.breed} dog named {self.name} says: Woof!\")\n",
        "\n",
        "dog = Dog(\"Rocky\", \"Rottweiler\")\n",
        "dog.speak()\n"
      ],
      "metadata": {
        "id": "kFD3YTJ0J8SI",
        "colab": {
          "base_uri": "https://localhost:8080/"
        },
        "outputId": "a09c96bb-fe51-462c-d470-b9764725f0ad"
      },
      "execution_count": null,
      "outputs": [
        {
          "output_type": "stream",
          "name": "stdout",
          "text": [
            "The Rottweiler dog named Rocky says: Woof!\n"
          ]
        }
      ]
    },
    {
      "cell_type": "markdown",
      "source": [
        "**Question 13: Create another subclass called Cat that inherits from the Animal class. Add a constructor to initialize the name, species, and color attributes specific to cats. Override the speak method in the Cat class to print \"Meow!\"**\n"
      ],
      "metadata": {
        "id": "LQD3caVCgiuS"
      }
    },
    {
      "cell_type": "code",
      "source": [
        "\n",
        "class Animal:\n",
        "  def __init__(self, name, species) :\n",
        "    self.name = name\n",
        "    self.species = species\n",
        "  def Speak(self):\n",
        "    print(f\"The {self.species} named {self.name} makes a sound.\")\n",
        "\n",
        "class Cat(Animal):\n",
        "  def __init__(self, name, color):\n",
        "    super().__init__(name, species=\"Cat\")\n",
        "    self.color = color\n",
        "\n",
        "  def speak(self):\n",
        "     print(f\"The {self.color} cat named {self.name} says: Meow!\")\n",
        "\n",
        "cat = Cat(\"Lucy\", \"White\")\n",
        "cat.speak()\n"
      ],
      "metadata": {
        "id": "ViCW7aXTKDjc",
        "colab": {
          "base_uri": "https://localhost:8080/"
        },
        "outputId": "508fe509-e154-41de-efbb-3b71bfc06483"
      },
      "execution_count": null,
      "outputs": [
        {
          "output_type": "stream",
          "name": "stdout",
          "text": [
            "The White cat named Lucy says: Meow!\n"
          ]
        }
      ]
    },
    {
      "cell_type": "markdown",
      "source": [
        "**Question 14: Create instances of both the Dog and Cat classes and call their speak methods to demonstrate polymorphism.**\n"
      ],
      "metadata": {
        "id": "cRUamlpVgmo-"
      }
    },
    {
      "cell_type": "code",
      "source": [
        "\n",
        "class Animal:\n",
        "  def __init__(self, name, species) :\n",
        "    self.name = name\n",
        "    self.species = species\n",
        "  def Speak(self):\n",
        "    print(f\"The {self.species} named {self.name} makes a sound.\")\n",
        "\n",
        "class Dog(Animal):\n",
        "  def __init__(self, name, breed):\n",
        "    super().__init__(name, species=\"Dog\")\n",
        "    self.breed = breed\n",
        "\n",
        "  def speak(self):\n",
        "    print(f\"The {self.breed} dog named {self.name} says: Woof!\")\n",
        "\n",
        "class Cat(Animal):\n",
        "  def __init__(self, name, color):\n",
        "    super().__init__(name, species=\"Cat\")\n",
        "    self.color = color\n",
        "\n",
        "  def speak(self):\n",
        "     print(f\"The {self.color} cat named {self.name} says: Meow!\")\n",
        "\n",
        "dog_instance = Dog(\"Rocky\", \"Rottweiler\")\n",
        "cat_instance = Cat(\"Lucy\", \"White\")\n",
        "\n",
        "dog_instance.Speak()\n",
        "cat_instance.Speak()\n"
      ],
      "metadata": {
        "id": "79dtRRTXKJhB",
        "colab": {
          "base_uri": "https://localhost:8080/"
        },
        "outputId": "110f68bb-c178-436a-fcd9-6edc820e9218"
      },
      "execution_count": null,
      "outputs": [
        {
          "output_type": "stream",
          "name": "stdout",
          "text": [
            "The Dog named Rocky makes a sound.\n",
            "The Cat named Lucy makes a sound.\n"
          ]
        }
      ]
    }
  ]
}